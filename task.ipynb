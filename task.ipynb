{
 "cells": [
  {
   "cell_type": "code",
   "execution_count": null,
   "metadata": {},
   "outputs": [],
   "source": [
    "There are n stairs, and a person is allowed to jump next stair, skip one stair or skip two stairs. So there are n stairs. \n",
    "So if a person is standing at i-th stair, the person can move to i+1, i+2, i+3-th stair. \n",
    "A recursive function can be formed where at current index i the function is recursively called for i+1, i+2 and i+3 th stair. \n",
    "There is another way of forming the recursive function. To reach a stair i, a person has to jump either from i-1, i-2 or \n",
    "i-3 th stair or i is the starting stair.\n",
    "\n",
    "Algorithm: \n",
    "\n",
    "1.Create a recursive function (count(int n)) which takes only one parameter.\n",
    "2.Check the base cases. If the value of n is less than 0 then return 0, and if the value of n is equal to zero then \n",
    "return 1 as it is the starting stair.\n",
    "3.Call the function recursively with values n-1, n-2 and n-3 and sum up the values that are returned, i.e. \n",
    "sum = count(n-1) + count(n-2) + count(n-3)\n",
    "4.Return the value of the sum."
   ]
  },
  {
   "cell_type": "code",
   "execution_count": 4,
   "metadata": {},
   "outputs": [
    {
     "name": "stdout",
     "output_type": "stream",
     "text": [
      "As the Count of the number of ways to reach n th step 7\n"
     ]
    }
   ],
   "source": [
    "# Python program to find n-th stair \n",
    "# using step size 1 or 2 or 3.\n",
    " \n",
    "# Returns count of ways to reach n-th\n",
    "# stair using 1 or 2 or 3 steps.\n",
    "def findStep( n) :\n",
    "    if (n == 1 or n == 0) :\n",
    "        return 1\n",
    "    elif (n == 2) :\n",
    "        return 2\n",
    "     \n",
    "    else :\n",
    "        return findStep(n - 3) + findStep(n - 2) + findStep(n - 1)\n",
    " \n",
    " \n",
    "# Driver code\n",
    "n = 4\n",
    "print(\"As the Count of the number of ways to reach n th step\",findStep(n))"
   ]
  },
  {
   "cell_type": "code",
   "execution_count": null,
   "metadata": {},
   "outputs": [],
   "source": []
  }
 ],
 "metadata": {
  "kernelspec": {
   "display_name": "Python 3",
   "language": "python",
   "name": "python3"
  },
  "language_info": {
   "codemirror_mode": {
    "name": "ipython",
    "version": 3
   },
   "file_extension": ".py",
   "mimetype": "text/x-python",
   "name": "python",
   "nbconvert_exporter": "python",
   "pygments_lexer": "ipython3",
   "version": "3.7.6"
  }
 },
 "nbformat": 4,
 "nbformat_minor": 4
}
